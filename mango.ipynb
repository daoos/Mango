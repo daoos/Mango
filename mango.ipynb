from PyQt5.QtCore import (QEasingCurve, QFileInfo, QLineF, QMimeData,
        QParallelAnimationGroup, QPoint, QPointF, QPropertyAnimation, qrand,
        QRectF, qsrand, Qt, QTime)
from PyQt5.QtGui import (QBrush, QColor, QDrag, QImage, QPainter, QPen,
        QPixmap, QTransform)
from PyQt5.QtWidgets import (QApplication, QGraphicsItem, QGraphicsObject,
        QGraphicsScene, QGraphicsView)
import sys

class pallete_part(QGraphicsObject):
    def __init__(self, parent=None):
        super(pallete_part, self).__init__(parent)

        self.color = QColor(Qt.lightGray)
        self.dragOver = True

        self.setAcceptDrops(False)
        
    def mousePressEvent(self, event):
        self.setCursor(Qt.ClosedHandCursor)

    def mouseMoveEvent(self, event):
        if QLineF(QPointF(event.screenPos()), QPointF(event.buttonDownScreenPos(Qt.LeftButton))).length() < QApplication.startDragDistance():
            return

        drag = QDrag(event.widget())
        mime = QMimeData()
        drag.setMimeData(mime)
        
        mime.setColorData(self.color)
        mime.setText("#%02x%02x%02x" % (self.color.red(), self.color.green(), self.color.blue()))

        pixmap = QPixmap(34, 34)
        pixmap.fill(Qt.white)

        painter = QPainter(pixmap)
        painter.translate(15, 15)
        painter.setRenderHint(QPainter.Antialiasing)
        self.paint(painter, None, None)
        painter.end()

        pixmap.setMask(pixmap.createHeuristicMask())

        drag.setPixmap(pixmap)
        drag.setHotSpot(QPoint(15, 20))
        
        drag.exec_()
        self.setCursor(Qt.OpenHandCursor)

    def mouseReleaseEvent(self, event):
        self.setCursor(Qt.OpenHandCursor)
        
    #def dragEnterEvent(self, event):
    #    self.dragOver = True
    #    self.update()
        
class neuron_rec(pallete_part):
    def __init__(self, parent=None):
        super(neuron_rec, self).__init__(parent)
        self.setCursor(Qt.OpenHandCursor)
        #self.setFlag(QGraphicsItem.ItemIsMovable)
        
    def boundingRect(self):
        return QRectF(-30, -20, 60, 60)
    
    def paint(self, painter, option, widget=None):
        painter.setBrush(self.color.lighter(130) if self.dragOver else self.color)
        painter.drawRoundedRect(-20, -20, 40, 60, 25, 25, Qt.RelativeSize)
        painter.drawEllipse(-25, -20, 20, 20)
        
class neuron_cir(pallete_part):
    def boundingRect(self):
        return QRectF(-30, -20, 60, 60)

    def paint(self, painter, option, widget=None):
        painter.setBrush(self.color.lighter(130) if self.dragOver else self.color)
        painter.drawRoundedRect(-20, -20, 40, 60, 25, 25, Qt.RelativeSize)
        painter.drawEllipse(-25, -20, 20, 20)
        painter.drawEllipse(5, -20, 20, 20)
        painter.drawEllipse(-20, 22, 20, 20)
        painter.drawEllipse(0, 22, 20, 20)
        
class pallete(pallete_part):
    def __init__(self):
        super(pallete, self).__init__()

        self.setFlag(self.ItemHasNoContents)

        self.rectangle = neuron_rec(self)
        self.circle = neuron_cir(self.rectangle)

        settings = (
        #    Item                       Position        Rotation  Scale
        #                                x     y    start    end
            (self.rectangle,              0,  -18,      20,   -20,   1.1),
            (self.circle,                -15,  -10,     190,   180,     0),
        )

        '''animation = QParallelAnimationGroup(self)
        for item, pos_x, pos_y, start_rot, end_rot, scale in settings: 
            item.setPos(pos_x, pos_y)

            rot_animation = QPropertyAnimation(item, b'rotation')
            rot_animation.setStartValue(start_rot)
            rot_animation.setEndValue(end_rot)
            rot_animation.setEasingCurve(QEasingCurve.SineCurve)
            rot_animation.setDuration(2000)
            animation.addAnimation(rot_animation)

            if scale > 0:
                scale_animation = QPropertyAnimation(item, b'scale')
                scale_animation.setEndValue(scale)
                scale_animation.setEasingCurve(QEasingCurve.SineCurve)
                scale_animation.setDuration(2000)
                animation.addAnimation(scale_animation)

        animation.setLoopCount(-1)
        animation.start()'''

    def boundingRect(self):
        return QRectF()

    def paint(self, painter, option, widget=None):
        pass
    
class window(QGraphicsObject):
    def __init__(self, parent=None):
        super(window, self).__init__(parent)

        self.color = QColor(Qt.lightGray)
        self.dragOver = False

        self.setAcceptDrops(True)
        
    def dragEnterEvent(self, event):
        if event.mimeData().hasColor():
            event.setAccepted(True)
            self.dragOver = True
            self.update()
        else:
            event.setAccepted(False)

    def dragLeaveEvent(self, event):
        self.dragOver = True
        self.update()
 
    def dropEvent(self, event):
        self.dragOver = True
        self.color = QColor(event.mimeData().colorData())
        self.update()
        
class window_panel(window):
    def boundingRect(self):
        return QRectF(-30, -20, 210, 200)
    def paint(self, painter, option, widget=None):
        painter.setBrush(self.color.lighter(130) if self.dragOver else self.color)
        painter.drawRoundedRect(-20, -20, 200, 200, 25, 25, Qt.RelativeSize)

class window_(window):
    def __init__(self):
        super(window_, self).__init__()

        self.setFlag(self.ItemHasNoContents)
        self.w = window_panel(self)
        settings = (
        #    Item                       Position        Rotation  Scale
        #                                x     y    start    end
            (self.w,              0,  -100,      20,   -20,   1.1),
        )
    def boundingRect(self):
        return QRectF()

    def paint(self, painter, option, widget=None):
        pass
    
class GraphicsView(QGraphicsView):

    def resizeEvent(self, e):
        pass

qapp = QApplication(sys.argv) 

scene = QGraphicsScene(-200,-200,400,400)
pallete = pallete() 

scene.addItem(window_())
scene.addItem(pallete)
view = GraphicsView(scene)
view.setWindowTitle("Mango")
view.show()
sys.exit(qapp.exec_())
