import sys
from PyQt4.QtCore import *
from PyQt4.QtGui import *

class pallete_part(QGraphicsObject):
    def __init__(self, parent=None):
        super(pallete_part, self).__init__(parent)

        self.color = QColor(Qt.lightGray)
        self.dragOver = True

        self.setAcceptDrops(False)
        
    def mousePressEvent(self, event):
        self.setCursor(Qt.ClosedHandCursor)

    def mouseMoveEvent(self, event):
        if QLineF(QPointF(event.screenPos()), QPointF(event.buttonDownScreenPos(Qt.LeftButton))).length() < QApplication.startDragDistance():
            return

        drag = QDrag(event.widget())
        mime = QMimeData()
        drag.setMimeData(mime)      
        drag.setHotSpot(event.pos().toPoint())
        
        pixmap = QPixmap(60, 60)
        pixmap.fill(Qt.white)

        painter = QPainter(pixmap)
        painter.translate(0, 0)
        painter.setRenderHint(QPainter.Antialiasing)
        self.paint(painter, None, None)
        painter.end()

        pixmap.setMask(pixmap.createHeuristicMask())

        drag.setPixmap(pixmap)
        drag.setHotSpot(QPoint(30, 30))
        
        drag.exec_()
        self.setCursor(Qt.OpenHandCursor)

    def mouseReleaseEvent(self, event):
        self.setCursor(Qt.OpenHandCursor)
        
class neuron_rec(pallete_part):
    def __init__(self, parent=None):
        super(neuron_rec, self).__init__(parent)
        self.setCursor(Qt.OpenHandCursor)
        
    def boundingRect(self):
        return QRectF(0, 0, 60, 60)
    def paint(self, painter, option, widget=None):
        painter.setBrush(self.color.lighter(130) if self.dragOver else self.color)
        painter.drawRoundedRect(0, 0, 60, 60, 0, 0, Qt.RelativeSize)
        
class neuron_cir(pallete_part):
    def boundingRect(self):
        return QRectF(80, 0, 40, 60)
    def paint(self, painter, option, widget=None):
        painter.setBrush(self.color.lighter(130) if self.dragOver else self.color)
        painter.drawRoundedRect(80, 0, 40, 60, 0, 0, Qt.RelativeSize)
        
class pallete(pallete_part):
    def __init__(self):
        super(pallete, self).__init__()

        self.setFlag(self.ItemHasNoContents)
        self.rectangle = neuron_rec(self)
        self.circle = neuron_cir(self.rectangle)

    def boundingRect(self):
        return QRectF()

    def paint(self, painter, option, widget=None):
        pass

'''class dock_screen(QWidget):                             # Main board Widget
    def __init__(self):
        super(dock_screen, self).__init__()
        self.setAcceptDrops(True)
    def dragEnterEvent(self, e):
        e.setAccepted(True)
    def dragLeaveEvent(self, e):
        e.setAccepted(True)

    def dropEvent(self, e):
        self.dragOver = True
        e.setDropAction(Qt.MoveAction)
        e.setAccepted(True)
        pos = e.pos()
        print(pos.x())
        print('시발')
        self.show()'''

class qgraphicsView(QGraphicsView):                     # Main board Graphic View (Drop zone)
    def __init__(self, scene):
        super(qgraphicsView, self).__init__()
        self.scene = scene
        self.setScene(self.scene)
        self.setAcceptDrops(True)
    def dragMoveEvent(self, event):
        #pass
        event.setAccepted(True)
    def dragEnterEvent(self, event):
        event.setAccepted(True)
        self.dragOver = True
        self.dragMoveEvent(event)
        self.update()
            
    def dropEvent(self, event):
        self.dragOver = True
        event.setDropAction(Qt.MoveAction)
        event.setAccepted(True)
        pos = event.pos()
        #pos = QCursor().pos()
        self.scene.addRect(pos.x(),pos.y(),30,30)
        event.acceptProposedAction()
    
class Dock(QDockWidget):
    def __init__(self):
        super(Dock, self).__init__()
        self.initUI()
        
    def initUI(self):
        self.setWindowTitle('Graphics')
    
        self.scene = QGraphicsScene(0, 0, 650, 400)
        self.graphic = qgraphicsView(self.scene)

        '''self.docked = dock_screen()
        self.setWidget(self.docked)
        self.docked.setLayout(QVBoxLayout())
        self.docked.layout().addWidget(self.graphic)
        self.docked.show()'''
        self.setWidget(self.graphic)

        self.show()

class DockContents(QWidget):
    _sizehint = None
    def setSizeHint(self, width, height):
        self._sizehint = QSize(width, height)

    def sizeHint(self):
        print('sizeHint:', self._sizehint)
        if self._sizehint is not None:
            return self._sizehint
        return super(MyWidget, self).sizeHint()

class Window(QMainWindow):
    def __init__(self):
        QMainWindow.__init__(self)

        pallete_buttons = pallete()
        scene = QGraphicsScene(0, 0, 200, 400)
        scene.addItem(pallete_buttons)
        graphic = QGraphicsView(scene)
        graphic.show()

        self.setCentralWidget(graphic)                                      # Drop zone
        self.dock = Dock()
        self.addDockWidget(Qt.LeftDockWidgetArea, self.dock) 
        
        self.dock1 = QDockWidget('Code', self)
        self.addDockWidget(Qt.BottomDockWidgetArea, self.dock1)
        
        contents1 = DockContents(self)                                      # Code Part
        contents1.setSizeHint(1000, 200)
        self.dock1.setWidget(contents1)
        
if __name__ == '__main__':
    app = QApplication(sys.argv)
    window = Window()
    window.setGeometry(500, 200, 1000, 700)
    window.setWindowTitle('Mango')
    window.show()
    sys.exit(app.exec_())
